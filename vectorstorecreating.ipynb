{
 "cells": [
  {
   "cell_type": "code",
   "execution_count": 1,
   "id": "fa655521",
   "metadata": {},
   "outputs": [],
   "source": [
    "import streamlit as st\n",
    "import os\n",
    "from langchain_groq import ChatGroq\n",
    "from langchain_community.embeddings import HuggingFaceEmbeddings\n",
    "from langchain.text_splitter import RecursiveCharacterTextSplitter\n",
    "from langchain.chains.combine_documents import create_stuff_documents_chain\n",
    "from langchain_core.prompts import ChatPromptTemplate\n",
    "from langchain.chains import create_retrieval_chain\n",
    "from langchain_community.vectorstores import FAISS\n",
    "from langchain_community.document_loaders import PyPDFDirectoryLoader\n",
    "\n",
    "#------------------------------------------------------------------------------------------------\n",
    "# This line sets the LANGSMITH project environment variable for tracking and debuging the project\n",
    "os.environ[\"LANGSMITH_PROJECT_RAG\"] = os.getenv(\"LANGSMITH_PROJECT_RAG\")\n",
    "# Setting the environment variable for the LANGSMITH API key\n",
    "os.environ[\"LANGSMITH_API_KEY_RAG\"] = os.getenv(\"LANGSMITH_API_KEY_RAG\")\n",
    "# Setting the environment variable for LangChain tracking\n",
    "os.environ[\"LANGSMITH_TRACING_RAG\"] = os.getenv(\"LANGSMITH_TRACING_RAG\")\n",
    "# This is the endpoint for LangSmith tracing\n",
    "os.environ[\"LANGSMITH_ENDPOINT_RAG\"] = os.getenv(\"LANGSMITH_ENDPOINT_RAG\")\n",
    "#------------------------------------------------------------------------------------------------\n",
    "\n",
    "\n",
    "## load the GROQ API Key\n",
    "os.environ['GROQ_API_KEY_RAG']=os.getenv(\"GROQ_API_KEY_RAG\")\n",
    "groq_api_key=os.getenv(\"GROQ_API_KEY_RAG\")"
   ]
  },
  {
   "cell_type": "code",
   "execution_count": null,
   "id": "c051ba27",
   "metadata": {},
   "outputs": [
    {
     "name": "stderr",
     "output_type": "stream",
     "text": [
      "C:\\Users\\sameer sheikh\\AppData\\Local\\Temp\\ipykernel_37184\\1902427049.py:1: LangChainDeprecationWarning: The class `HuggingFaceEmbeddings` was deprecated in LangChain 0.2.2 and will be removed in 1.0. An updated version of the class exists in the :class:`~langchain-huggingface package and should be used instead. To use it run `pip install -U :class:`~langchain-huggingface` and import as `from :class:`~langchain_huggingface import HuggingFaceEmbeddings``.\n",
      "  embeddings=HuggingFaceEmbeddings()\n",
      "C:\\Users\\sameer sheikh\\AppData\\Local\\Temp\\ipykernel_37184\\1902427049.py:1: LangChainDeprecationWarning: Default values for HuggingFaceEmbeddings.model_name were deprecated in LangChain 0.2.16 and will be removed in 0.4.0. Explicitly pass a model_name to the HuggingFaceEmbeddings constructor instead.\n",
      "  embeddings=HuggingFaceEmbeddings()\n",
      "c:\\Users\\sameer sheikh\\OneDrive\\Desktop\\projects\\Langchain Projects\\Chatbots\\venv\\Lib\\site-packages\\tqdm\\auto.py:21: TqdmWarning: IProgress not found. Please update jupyter and ipywidgets. See https://ipywidgets.readthedocs.io/en/stable/user_install.html\n",
      "  from .autonotebook import tqdm as notebook_tqdm\n"
     ]
    }
   ],
   "source": [
    "embeddings=HuggingFaceEmbeddings()\n",
    "loader=PyPDFDirectoryLoader(\"research_paper\") ## Data Ingestion step\n",
    "docs=loader.load() ## Document Loading\n",
    "text_splitter=RecursiveCharacterTextSplitter(chunk_size=1000,chunk_overlap=200)\n",
    "final_document=text_splitter.split_documents(docs)\n",
    "vectorstore=FAISS.from_documents(final_document,embeddings)\n",
    "#saving vectore store\n",
    "vectorstore.save_local(\"faiss_vector_store\")"
   ]
  },
  {
   "cell_type": "code",
   "execution_count": null,
   "id": "2c8ac73e",
   "metadata": {},
   "outputs": [],
   "source": [
    "from"
   ]
  }
 ],
 "metadata": {
  "kernelspec": {
   "display_name": "venv",
   "language": "python",
   "name": "python3"
  },
  "language_info": {
   "codemirror_mode": {
    "name": "ipython",
    "version": 3
   },
   "file_extension": ".py",
   "mimetype": "text/x-python",
   "name": "python",
   "nbconvert_exporter": "python",
   "pygments_lexer": "ipython3",
   "version": "3.12.5"
  }
 },
 "nbformat": 4,
 "nbformat_minor": 5
}
